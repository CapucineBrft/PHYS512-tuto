{
 "cells": [
  {
   "cell_type": "code",
   "execution_count": 1,
   "metadata": {},
   "outputs": [],
   "source": [
    "import numpy as np\n",
    "import matplotlib.pyplot as plt\n",
    "from scipy.interpolate import CubicSpline\n",
    "from scipy.integrate import quad"
   ]
  },
  {
   "cell_type": "markdown",
   "metadata": {},
   "source": [
    "# PHYS512 Assignment 1"
   ]
  },
  {
   "cell_type": "markdown",
   "metadata": {},
   "source": [
    "## Question 1\n",
    "\n",
    "### a)"
   ]
  },
  {
   "cell_type": "markdown",
   "metadata": {},
   "source": [
    "We have four points $f(x \\pm \\delta)$ and $f(x \\pm 2\\delta)$.\n",
    "When doing the Taylor expansion we get:\n",
    "\n",
    "$$f(x \\pm \\delta) = f(x) \\pm \\delta f'(x) + \\frac{\\delta^2}{2}f''(x) \\pm \\frac{\\delta^3}{6}f'''(x) + \\frac{\\delta^4}{24}f^{4}(x) \\pm   \\frac{\\delta^5}{120}f^{5}(x) + \\epsilon_{1\\pm} f(x)$$\n",
    "\n",
    "\n",
    "$$f(x \\pm 2\\delta) = f(x) \\pm 2\\delta f'(x) + 2\\delta^2f''(x) \\pm \\frac{4\\delta^3}{3}f'''(x) + \\frac{2\\delta^4}{3}f^{4}(x) \\pm   \\frac{4\\delta^5}{15}f^{5}(x) + \\epsilon_{2\\pm} f(x)$$"
   ]
  },
  {
   "cell_type": "markdown",
   "metadata": {},
   "source": [
    "Where $\\epsilon_{1\\pm,2\\pm}f(x)$ are roundoff error terms from the computer accuracy. \n",
    "Combining the expansions, we can obtain:\n",
    "\n",
    "$$(1) \\: \\: f(x+\\delta)-f(x-\\delta) = 2\\delta f'(x) + \\frac{\\delta^3}{3}f'''(x) + \\frac{\\delta^5}{60}f^{5}(x) + \\epsilon_1 f(x) $$\n",
    "\n",
    "$$(2) \\: \\: f(x+2\\delta)-f(x-2\\delta) = 4\\delta f'(x) + \\frac{8\\delta^3}{3}f'''(x) + \\frac{8\\delta^5}{15}f^{5}(x) + \\epsilon_2 f(x) $$"
   ]
  },
  {
   "cell_type": "markdown",
   "metadata": {},
   "source": [
    "From (2) we can retrieve an expression for $\\frac{\\delta^3}{3}f'''(x)$ which we then plug back into (1) to obtain:\n",
    "\n",
    "$$f(x+\\delta)-f(x-\\delta)= \\frac{3}{2}\\delta f'(x) + \\frac{1}{8}\\left[f(x+2\\delta) - f(x-2\\delta)\\right] - \\frac{3\\delta^5}{20}f^5(x) + \\epsilon f(x)$$\n",
    "\n",
    "\n",
    "$$\\to f'(x) = \\frac{1}{12\\delta}\\left[f(x-2\\delta) - f(x+2\\delta)\\right] + \\frac{2}{3\\delta}\\left[f(x+\\delta) - f(x-\\delta)\\right] +\\frac{\\delta^4}{10}f^5(x) + \\epsilon f(x)$$"
   ]
  },
  {
   "cell_type": "markdown",
   "metadata": {},
   "source": [
    "Where $\\frac{\\delta^4}{10}f^5(x) + \\epsilon f(x)$ is the combined error term from truncation and roundoff."
   ]
  },
  {
   "cell_type": "markdown",
   "metadata": {},
   "source": [
    "### b)"
   ]
  },
  {
   "cell_type": "markdown",
   "metadata": {},
   "source": [
    "From a), we get that the error term in the derivative is:\n",
    "\n",
    "$$error = \\frac{\\delta^4}{10}f^5(x) + \\epsilon f(x)$$\n",
    "\n",
    "To find $\\delta$, we need to minimize this error term, i.e.:\n",
    "\n",
    "$$ \\frac{\\partial error} {\\partial \\delta} = 0$$"
   ]
  },
  {
   "cell_type": "markdown",
   "metadata": {},
   "source": [
    "$$\\to \\frac{2}{5}\\delta^3 f^5(x) - \\frac{2}{3}\\frac{\\epsilon f(x)}{\\delta^2} = 0 $$\n",
    "\n",
    "$$ \\delta^5 f^5(x) = \\frac{5}{3}\\epsilon f(x)$$\n",
    "\n",
    "Finally, we obtain:\n",
    "\n",
    "$$ \\delta = \\sqrt[5]{\\frac{5}{3}\\frac{\\epsilon f(x)}{f^5(x)}}$$\n",
    "\n",
    "\n",
    "Below we show what $\\delta$ is for $e^x$ and $e^{0.01x}$:"
   ]
  },
  {
   "cell_type": "code",
   "execution_count": 2,
   "metadata": {},
   "outputs": [
    {
     "name": "stdout",
     "output_type": "stream",
     "text": [
      "Minimum delta for exp(x) is 0.0007\n"
     ]
    }
   ],
   "source": [
    "x0 = 0\n",
    "ϵ = 2**-53 #for double precision\n",
    "\n",
    "# To get δ for exp(x):\n",
    "f = np.exp(x0) #function f(x)\n",
    "f_5 = np.exp(x0) #fifth derivative of f(x)\n",
    "δ_1 = (5/3 * ϵ * f/f_5)**(1/5)\n",
    "print(f'Minimum delta for exp(x) is {δ_1:.4f}')"
   ]
  },
  {
   "cell_type": "markdown",
   "metadata": {},
   "source": [
    "This value of $\\delta$ is the same order of magnitude as the value computed below for exp(x): dx ~ 0.0009"
   ]
  },
  {
   "cell_type": "code",
   "execution_count": 3,
   "metadata": {},
   "outputs": [
    {
     "name": "stdout",
     "output_type": "stream",
     "text": [
      "Minimum delta for exp(0.01x) is 0.09\n"
     ]
    }
   ],
   "source": [
    "# To get δ for exp(0.01x):\n",
    "f = np.exp(1) #function f(x)\n",
    "f_5 = 1e-10 * np.exp(0.01) #fifth derivative of f(x)\n",
    "δ_2 = (5/3 * ϵ * f/f_5)**(1/5)\n",
    "print(f'Minimum delta for exp(0.01x) is {δ_2:.2f}')"
   ]
  },
  {
   "cell_type": "markdown",
   "metadata": {},
   "source": [
    "This value of $\\delta$ is the same order of magnitude as the value computed below for exp(0.01x): dx ~ 0.07"
   ]
  },
  {
   "cell_type": "markdown",
   "metadata": {},
   "source": [
    "#### Below is the code to check if the estimates of delta are roughly correct"
   ]
  },
  {
   "cell_type": "code",
   "execution_count": 4,
   "metadata": {},
   "outputs": [],
   "source": [
    "#Defining the two exponential functions to verify the errors\n",
    "def fun1(x):\n",
    "    return np.exp(x)\n",
    "\n",
    "def fun2(x):\n",
    "    return np.exp(0.01*x)"
   ]
  },
  {
   "cell_type": "code",
   "execution_count": 5,
   "metadata": {},
   "outputs": [],
   "source": [
    "#Set up the function derived above:\n",
    "def deriv(fun, x, δ):\n",
    "    #f(x +- δ):\n",
    "    fdx = fun(x+δ)\n",
    "    fdx_ = fun(x-δ)\n",
    "\n",
    "    #f(x +- 2δ):\n",
    "    f2dx = fun(x+2*δ)\n",
    "    f2dx_ = fun(x-2*δ)\n",
    "\n",
    "    #computed approximation\n",
    "    deriv = 1/(12*δ) * (f2dx_ - f2dx) + 2/(3*δ) * (fdx - fdx_)\n",
    "    \n",
    "    return deriv"
   ]
  },
  {
   "cell_type": "code",
   "execution_count": 6,
   "metadata": {},
   "outputs": [
    {
     "name": "stdout",
     "output_type": "stream",
     "text": [
      "This is the value of dx which minimizes the error for exp(x): 0.0009\n"
     ]
    }
   ],
   "source": [
    "#For exp(x):\n",
    "#array of different values of dx\n",
    "dx = np.linspace(1.0e-9, 1.0, 100000, dtype='float64')\n",
    "\n",
    "#True value to compare with:\n",
    "y_true = np.exp(0)\n",
    "\n",
    "#first derivative of exp(x) around 0 using the above function\n",
    "deriv_exp1 = deriv(fun1, 0., dx)\n",
    "\n",
    "#Get the error by comparing the true value of the derivative of exp(0)\n",
    "err1 = np.abs(y_true-deriv_exp1)\n",
    "\n",
    "#value of δ which minimizes the error:\n",
    "min_dx1 = dx[np.argmin(err1)]\n",
    "print(f'This is the value of dx which minimizes the error for exp(x): {min_dx1:.4f}')"
   ]
  },
  {
   "cell_type": "code",
   "execution_count": 7,
   "metadata": {},
   "outputs": [
    {
     "name": "stdout",
     "output_type": "stream",
     "text": [
      "This is the value of dx which minimizes the error for exp(0.01x): 0.07\n"
     ]
    }
   ],
   "source": [
    "#For exp(0.01x):\n",
    "#array of different values of dx\n",
    "dx = np.linspace(1.0e-9, 1.0, 100000, dtype='float64')\n",
    "\n",
    "#True value to compare with:\n",
    "y_true = np.exp(0.01)*0.01\n",
    "\n",
    "#first derivative of exp(x) around 1. using the above function\n",
    "deriv_exp2 = deriv(fun2, 1., dx)\n",
    "\n",
    "#Get the error by comparing the true value of the derivative of exp(0.01)\n",
    "err2 = np.abs(y_true-deriv_exp2)\n",
    "\n",
    "#value of δ which minimizes the error:\n",
    "min_dx2 = dx[np.argmin(err2)]\n",
    "print(f'This is the value of dx which minimizes the error for exp(0.01x): {min_dx2:.2f}')"
   ]
  },
  {
   "cell_type": "code",
   "execution_count": 8,
   "metadata": {},
   "outputs": [
    {
     "data": {
      "text/plain": [
       "<matplotlib.legend.Legend at 0x7fd22a68d390>"
      ]
     },
     "execution_count": 8,
     "metadata": {},
     "output_type": "execute_result"
    },
    {
     "data": {
      "image/png": "[encoded data removed]",
      "text/plain": [
       "<Figure size 1080x432 with 1 Axes>"
      ]
     },
     "metadata": {
      "needs_background": "light"
     },
     "output_type": "display_data"
    }
   ],
   "source": [
    "plt.figure(figsize=(15, 6))\n",
    "\n",
    "plt.loglog(dx, err1, label='Err exp(x)')\n",
    "plt.loglog(dx, err2, label='Err exp(0.01x)')\n",
    "plt.ylabel('Error', fontsize=15)\n",
    "plt.xlabel(r'$\\delta$', fontsize=15)\n",
    "plt.vlines(min_dx1, 0, 1e-1, linestyle=':')\n",
    "plt.vlines(min_dx2, 0, 1e-1, linestyle=':')\n",
    "plt.legend()"
   ]
  },
  {
   "cell_type": "markdown",
   "metadata": {},
   "source": [
    "# Question 2"
   ]
  },
  {
   "cell_type": "code",
   "execution_count": 9,
   "metadata": {},
   "outputs": [],
   "source": [
    "lakeshore = np.loadtxt('lakeshore.txt')\n",
    "temp, voltage, dvdt = lakeshore.T[0], lakeshore.T[1], lakeshore.T[2]\n",
    "\n",
    "v = voltage[::-1]\n",
    "t = temp[::-1]"
   ]
  },
  {
   "cell_type": "code",
   "execution_count": 10,
   "metadata": {},
   "outputs": [],
   "source": [
    "def CubSpline(x0,y0,x):\n",
    "    cs = CubicSpline(x0, y0) #returns a function takes the x values to interpolate as argument\n",
    "    y = cs(x)\n",
    "    return y"
   ]
  },
  {
   "cell_type": "code",
   "execution_count": 15,
   "metadata": {},
   "outputs": [],
   "source": [
    "#Interpolate a large array of voltage values into temperatures:\n",
    "x = np.linspace(v[0], v[-1], 1000)\n",
    "y = CubSpline(v, t, x)"
   ]
  },
  {
   "cell_type": "code",
   "execution_count": 16,
   "metadata": {},
   "outputs": [],
   "source": [
    "#define half the points as 'true' values:\n",
    "x_t = x[::2]\n",
    "#define the other half as 'experimental' values:\n",
    "x_e = x[1::2]\n",
    "\n",
    "#Interpolate both lists:\n",
    "y_t = CubSpline(v, t, x_t)\n",
    "y_e = CubSpline(v, t, x_e)\n",
    "\n",
    "#an upper bound on the error is the maximum difference between the \"true\" interpolated values and \"experimental\" ones:\n",
    "error = max(np.abs(y_t-y_e))"
   ]
  },
  {
   "cell_type": "markdown",
   "metadata": {},
   "source": [
    "As the maximum difference between two y interpolated points, a rough estimate of the error is ~ 1K."
   ]
  },
  {
   "cell_type": "code",
   "execution_count": 17,
   "metadata": {},
   "outputs": [
    {
     "name": "stdout",
     "output_type": "stream",
     "text": [
      "For 0.5V, the temperature is: 325.75 +/- 0.98 K.\n"
     ]
    }
   ],
   "source": [
    "#Example voltage to interpolate:\n",
    "v0 = 0.5 \n",
    "#Interpolated temperature:\n",
    "t0 = CubSpline(v, t, v0)\n",
    "\n",
    "print(f'For {v0}V, the temperature is: {t0:.2f} +/- {error:.2f} K.')"
   ]
  },
  {
   "cell_type": "markdown",
   "metadata": {},
   "source": [
    "Below is a plot showing the interpolated array computed above compared the data:"
   ]
  },
  {
   "cell_type": "code",
   "execution_count": 14,
   "metadata": {},
   "outputs": [
    {
     "data": {
      "text/plain": [
       "<matplotlib.legend.Legend at 0x7fd22afa6250>"
      ]
     },
     "execution_count": 14,
     "metadata": {},
     "output_type": "execute_result"
    },
    {
     "data": {
      "image/png": "[encoded data removed]",
      "text/plain": [
       "<Figure size 1080x360 with 2 Axes>"
      ]
     },
     "metadata": {
      "needs_background": "light"
     },
     "output_type": "display_data"
    }
   ],
   "source": [
    "plt.figure(figsize=(15, 5))\n",
    "\n",
    "plt.subplot(1,2,1)\n",
    "x = np.linspace(v[0], v[-1], 1000)\n",
    "plt.plot(v, t, '.', label='Data')\n",
    "plt.plot(x, CubSpline(v, t, x), '-',label='Interpolation')\n",
    "plt.ylabel('Temperature (K)')\n",
    "plt.xlabel('Voltage (V)')\n",
    "plt.title('Voltage vs Temperature', fontsize=20)\n",
    "plt.legend()\n",
    "\n",
    "plt.subplot(1,2,2)\n",
    "x = np.linspace(v[0], v[-1], 1000)\n",
    "plt.plot(v, t, '.', label='Data')\n",
    "plt.plot(x, CubSpline(v, t, x), '-',label='Interpolation')\n",
    "plt.ylabel('Temperature (K)')\n",
    "plt.xlabel('Voltage (V)')\n",
    "plt.xlim(1.0, 1.7)\n",
    "plt.ylim(0,60)\n",
    "plt.title('Zoomed in region between 1.0 and 1.7V', fontsize=20)\n",
    "plt.legend()"
   ]
  },
  {
   "cell_type": "markdown",
   "metadata": {},
   "source": [
    "# Question 3"
   ]
  },
  {
   "cell_type": "markdown",
   "metadata": {},
   "source": [
    "### Functions:"
   ]
  },
  {
   "cell_type": "code",
   "execution_count": 18,
   "metadata": {},
   "outputs": [],
   "source": [
    "def PolFit(x, xi, yi, order):\n",
    "    y = np.zeros(len(x))\n",
    "    for i in range(len(x)):  \n",
    "        #for each x, get the biggest xi inferior to it (i.e. the xi directly to its left)\n",
    "        ind=np.max(np.where(x[i]>=xi)[0]) \n",
    "        \n",
    "        #get the 4 x points surrounding it, as well as the 4 y corresponding values\n",
    "        x_use=xi[ind-1:ind+3]\n",
    "        y_use=yi[ind-1:ind+3]\n",
    "        \n",
    "        #Get the polynomial coefficients\n",
    "        coeffs=np.polyfit(x_use,y_use,order)\n",
    "        #Get the interpolated values\n",
    "        y[i] =  np.polyval(coeffs,x[i])\n",
    "        \n",
    "    return y"
   ]
  },
  {
   "cell_type": "code",
   "execution_count": 19,
   "metadata": {},
   "outputs": [],
   "source": [
    "def CubSpline(x0,y0,x):\n",
    "    cs = CubicSpline(x0, y0)\n",
    "    y = cs(x)\n",
    "    return y"
   ]
  },
  {
   "cell_type": "code",
   "execution_count": 20,
   "metadata": {},
   "outputs": [],
   "source": [
    "def rat_fit1(x,y,n,m):\n",
    "    assert(len(x)==n+m-1)\n",
    "    assert(len(y)==len(x))\n",
    "    #make x by y 0-matrix:\n",
    "    mat=np.zeros([n+m-1,n+m-1]) \n",
    "    #Setting up the matrix\n",
    "    for i in range(n):\n",
    "        mat[:,i]=x**i\n",
    "    for i in range(1,m):\n",
    "        mat[:,i-1+n]=-y*x**i\n",
    "    # coeffs = M^-1 · y\n",
    "    pars=np.dot(np.linalg.inv(mat),y) #np.linalg.inv gets the inverse of the matrix\n",
    "    p=pars[:n]\n",
    "    q=pars[n:]\n",
    "    return p,q\n",
    "\n",
    "\n",
    "def rat_fit2(x,y,n,m):\n",
    "    assert(len(x)==n+m-1)\n",
    "    assert(len(y)==len(x))\n",
    "    #make x by y 0-matrix:\n",
    "    mat=np.zeros([n+m-1,n+m-1]) \n",
    "    #Setting up the matrix\n",
    "    for i in range(n):\n",
    "        mat[:,i]=x**i\n",
    "    for i in range(1,m):\n",
    "        mat[:,i-1+n]=-y*x**i\n",
    "    # coeffs = M^-1 · y\n",
    "    pars=np.dot(np.linalg.pinv(mat),y) #np.linalg.pinv gets the inverse of the matrix, even when the determinant is 0\n",
    "    p=pars[:n]\n",
    "    q=pars[n:]\n",
    "    return p,q\n",
    "\n",
    "\n",
    "def rat_eval(p,q,x):\n",
    "    top=0\n",
    "    for i in range(len(p)):\n",
    "        top=top+p[i]*x**i\n",
    "    bot=1\n",
    "    for i in range(len(q)):\n",
    "        bot=bot+q[i]*x**(i+1)\n",
    "    return top/bot"
   ]
  },
  {
   "cell_type": "markdown",
   "metadata": {},
   "source": [
    "### For cos(x):"
   ]
  },
  {
   "cell_type": "code",
   "execution_count": 21,
   "metadata": {},
   "outputs": [
    {
     "name": "stdout",
     "output_type": "stream",
     "text": [
      "My rms error for the polynomial interpolation is 9.370160884865887e-05\n",
      "My rms error for the cubic spline interpolation is 1.7791380811451803e-05\n",
      "My rms error for the rational function interpolation is 1.2191776950968728e-07\n"
     ]
    },
    {
     "name": "stderr",
     "output_type": "stream",
     "text": [
      "/Users/capucinebarfety/opt/anaconda3/lib/python3.7/site-packages/ipykernel_launcher.py:22: RankWarning: Polyfit may be poorly conditioned\n"
     ]
    }
   ],
   "source": [
    "#values to interpolate from\n",
    "xi=np.linspace(-np.pi/2,np.pi/2,10)\n",
    "yi=np.cos(xi)\n",
    "\n",
    "#x values to interpolate\n",
    "#for the polynomial interp:\n",
    "x_p=np.linspace(xi[1],xi[-2],1001)\n",
    "#for the cubic spline interp:\n",
    "x_c= np.linspace(xi[1],xi[-2],1001)\n",
    "#for the rational function interp:\n",
    "x_r= np.linspace(xi[0],xi[-1],1001)\n",
    "\n",
    "\n",
    "#true values of the function\n",
    "y_tp = np.cos(x_p)\n",
    "y_tc = np.cos(x_c)\n",
    "y_tr = np.cos(x_r)\n",
    "\n",
    "\n",
    "#Interpolated values\n",
    "#for the polynomial interp:\n",
    "y_p = PolFit(x_p, xi, yi, 3)\n",
    "#for the cubic spline interp:\n",
    "y_c = CubSpline(xi,yi,x_c)\n",
    "#for the rational function interp:\n",
    "n = 5\n",
    "m = 6\n",
    "p, q = rat_fit1(xi,yi, n,m)\n",
    "y_r = rat_eval(p,q,x_r)\n",
    "\n",
    "\n",
    "print(f'My rms error for the polynomial interpolation is {np.std(y_p-y_tp)}')\n",
    "print(f'My rms error for the cubic spline interpolation is {np.std(y_c-y_tc)}')\n",
    "print(f'My rms error for the rational function interpolation is {np.std(y_r-y_tr)}')"
   ]
  },
  {
   "cell_type": "markdown",
   "metadata": {},
   "source": [
    "Using the same number of points (10) in all three methods, we obtain the above errors in the results. "
   ]
  },
  {
   "cell_type": "code",
   "execution_count": 22,
   "metadata": {},
   "outputs": [
    {
     "name": "stdout",
     "output_type": "stream",
     "text": [
      "The coefficients for the rational function are: \n",
      "\n",
      "p = [ 9.99999990e-01  0.00000000e+00 -4.55433246e-01  3.63797881e-12\n",
      "  2.03244279e-02]\n",
      "q = [-7.27595761e-12  4.45663741e-02 -4.54747351e-13  9.42994595e-04\n",
      "  0.00000000e+00].\n"
     ]
    }
   ],
   "source": [
    "print('The coefficients for the rational function are: \\n')\n",
    "print(f'p = {p}')\n",
    "print(f'q = {q}.')"
   ]
  },
  {
   "cell_type": "markdown",
   "metadata": {},
   "source": [
    "#### Plot for the Polynomial interpolation:"
   ]
  },
  {
   "cell_type": "code",
   "execution_count": 23,
   "metadata": {},
   "outputs": [
    {
     "data": {
      "text/plain": [
       "<matplotlib.legend.Legend at 0x7fd22a0732d0>"
      ]
     },
     "execution_count": 23,
     "metadata": {},
     "output_type": "execute_result"
    },
    {
     "data": {
      "image/png": "[encoded data removed]",
      "text/plain": [
       "<Figure size 576x288 with 1 Axes>"
      ]
     },
     "metadata": {
      "needs_background": "light"
     },
     "output_type": "display_data"
    }
   ],
   "source": [
    "plt.figure(figsize=(8,4))\n",
    "plt.plot(x_p, y_p, ',', label='Polynomial')\n",
    "plt.plot(xi, yi, '.', label='True f(x)')\n",
    "plt.legend()"
   ]
  },
  {
   "cell_type": "markdown",
   "metadata": {},
   "source": [
    "#### Plot for the Cubic Spline Interpolation:"
   ]
  },
  {
   "cell_type": "code",
   "execution_count": 24,
   "metadata": {},
   "outputs": [
    {
     "data": {
      "text/plain": [
       "<matplotlib.legend.Legend at 0x7fd22add22d0>"
      ]
     },
     "execution_count": 24,
     "metadata": {},
     "output_type": "execute_result"
    },
    {
     "data": {
      "image/png": "[encoded data removed]",
      "text/plain": [
       "<Figure size 576x288 with 1 Axes>"
      ]
     },
     "metadata": {
      "needs_background": "light"
     },
     "output_type": "display_data"
    }
   ],
   "source": [
    "plt.figure(figsize=(8, 4))\n",
    "plt.plot(xi,yi,'.', label='True f(x)')\n",
    "plt.plot(x_c, y_c, ',', label='Cubic Spline')\n",
    "plt.legend()"
   ]
  },
  {
   "cell_type": "markdown",
   "metadata": {},
   "source": [
    "#### Plot for the Rational function interpolation:"
   ]
  },
  {
   "cell_type": "code",
   "execution_count": 25,
   "metadata": {},
   "outputs": [
    {
     "data": {
      "text/plain": [
       "<matplotlib.legend.Legend at 0x7fd22afaf350>"
      ]
     },
     "execution_count": 25,
     "metadata": {},
     "output_type": "execute_result"
    },
    {
     "data": {
      "image/png": "[encoded data removed]",
      "text/plain": [
       "<Figure size 576x288 with 1 Axes>"
      ]
     },
     "metadata": {
      "needs_background": "light"
     },
     "output_type": "display_data"
    }
   ],
   "source": [
    "plt.figure(figsize=(8,4))\n",
    "plt.plot(x_r, y_r, ',', label='Rational')\n",
    "plt.plot(xi, yi, '.', label='True f(x)')\n",
    "plt.legend()"
   ]
  },
  {
   "cell_type": "markdown",
   "metadata": {},
   "source": [
    "## For the Lorentzian:"
   ]
  },
  {
   "cell_type": "code",
   "execution_count": 26,
   "metadata": {},
   "outputs": [
    {
     "name": "stdout",
     "output_type": "stream",
     "text": [
      "My rms error for the polynomial interpolation is 0.015378919569636799\n",
      "My rms error for the cubic spline interpolation is 0.03701158719356621\n",
      "My rms error for the rational function interpolation is 8.771443333073141e-17\n"
     ]
    }
   ],
   "source": [
    "#values to interpolate from\n",
    "xi = np.linspace(-1,1,4)\n",
    "yi = 1/(1 + xi**2)\n",
    "\n",
    "#x values to interpolate\n",
    "#for the polynomial interp:\n",
    "x_p=np.linspace(xi[1],xi[-2],1001)\n",
    "#for the cubic spline interp:\n",
    "x_c= np.linspace(xi[0],xi[-1],1001)\n",
    "#for the rational function interp:\n",
    "x_r= np.linspace(xi[0],xi[-1],1001)\n",
    "\n",
    "\n",
    "#true values of the function\n",
    "y_tp = 1/(1 + x_p**2)\n",
    "y_tc = 1/(1 + x_c**2)\n",
    "y_tr = 1/(1 + x_r**2)\n",
    "\n",
    "\n",
    "#Interpolated values\n",
    "#for the polynomial interp:\n",
    "y_p = PolFit(x_p, xi, yi, 2)\n",
    "#for the cubic spline interp:\n",
    "y_c = CubSpline(xi,yi,x_c)\n",
    "#for the rational function interp:\n",
    "n = 2\n",
    "m = 3\n",
    "p, q = rat_fit1(xi,yi, n,m)\n",
    "y_r = rat_eval(p,q,x_r)\n",
    "\n",
    "\n",
    "print(f'My rms error for the polynomial interpolation is {np.std(y_p-y_tp)}')\n",
    "print(f'My rms error for the cubic spline interpolation is {np.std(y_c-y_tc)}')\n",
    "print(f'My rms error for the rational function interpolation is {np.std(y_r-y_tr)}')"
   ]
  },
  {
   "cell_type": "code",
   "execution_count": 27,
   "metadata": {},
   "outputs": [
    {
     "name": "stdout",
     "output_type": "stream",
     "text": [
      "The coefficients for the rational function are: \n",
      "\n",
      "p = [1. 0.]\n",
      "q = [0. 1.].\n"
     ]
    }
   ],
   "source": [
    "print('The coefficients for the rational function are: \\n')\n",
    "print(f'p = {p}')\n",
    "print(f'q = {q}.')"
   ]
  },
  {
   "cell_type": "markdown",
   "metadata": {},
   "source": [
    "Looking at the Lorentzian:\n",
    "$$f(x) = \\frac{1}{1+x^2} $$\n",
    "\n",
    "And the rational function:\n",
    "\n",
    "$$f_r(x) = \\frac{p_0 + p_1x + ...}{1 + q_0x + q_1x^2 + ...} $$\n",
    "\n",
    "Where in this case $p_1 = q_0 = 0$ and $p_0 = q_1 = 1$.\n",
    "The rational function approximation of the Lorentzian is therefore exact, and the only error on the approximation stems from the computer accuracy. This agrees with the error in the interpolation above: $\\sim 9 e -17$."
   ]
  },
  {
   "cell_type": "markdown",
   "metadata": {},
   "source": [
    "#### Plot for the Polynomial interpolation:"
   ]
  },
  {
   "cell_type": "code",
   "execution_count": 28,
   "metadata": {},
   "outputs": [
    {
     "data": {
      "text/plain": [
       "<matplotlib.legend.Legend at 0x7fd22c04b250>"
      ]
     },
     "execution_count": 28,
     "metadata": {},
     "output_type": "execute_result"
    },
    {
     "data": {
      "image/png": "[encoded data removed]",
      "text/plain": [
       "<Figure size 576x288 with 1 Axes>"
      ]
     },
     "metadata": {
      "needs_background": "light"
     },
     "output_type": "display_data"
    }
   ],
   "source": [
    "plt.figure(figsize=(8,4))\n",
    "plt.plot(x_p, y_p, ',', label='Polynomial')\n",
    "plt.plot(xi, yi, '.', label='True f(x)')\n",
    "plt.legend()"
   ]
  },
  {
   "cell_type": "markdown",
   "metadata": {},
   "source": [
    "#### Plot for the Cubic Spline Interpolation:"
   ]
  },
  {
   "cell_type": "code",
   "execution_count": 29,
   "metadata": {},
   "outputs": [
    {
     "data": {
      "text/plain": [
       "<matplotlib.legend.Legend at 0x7fd22ae0bd10>"
      ]
     },
     "execution_count": 29,
     "metadata": {},
     "output_type": "execute_result"
    },
    {
     "data": {
      "image/png": "[encoded data removed]",
      "text/plain": [
       "<Figure size 576x288 with 1 Axes>"
      ]
     },
     "metadata": {
      "needs_background": "light"
     },
     "output_type": "display_data"
    }
   ],
   "source": [
    "plt.figure(figsize=(8, 4))\n",
    "plt.plot(xi,yi,'.', label='True f(x)')\n",
    "plt.plot(x_c, y_c, ',', label='Cubic Spline')\n",
    "plt.legend()"
   ]
  },
  {
   "cell_type": "markdown",
   "metadata": {},
   "source": [
    "#### Plot for the Rational function interpolation:"
   ]
  },
  {
   "cell_type": "code",
   "execution_count": 30,
   "metadata": {},
   "outputs": [
    {
     "data": {
      "text/plain": [
       "<matplotlib.legend.Legend at 0x7fd227083090>"
      ]
     },
     "execution_count": 30,
     "metadata": {},
     "output_type": "execute_result"
    },
    {
     "data": {
      "image/png": "[encoded data removed]",
      "text/plain": [
       "<Figure size 576x288 with 1 Axes>"
      ]
     },
     "metadata": {
      "needs_background": "light"
     },
     "output_type": "display_data"
    }
   ],
   "source": [
    "plt.figure(figsize=(8,4))\n",
    "plt.plot(x_r, y_r, ',', label='Rational')\n",
    "plt.plot(xi, yi, '.', label='True f(x)')\n",
    "plt.legend()"
   ]
  },
  {
   "cell_type": "markdown",
   "metadata": {},
   "source": [
    "### Increasing the orders of the rational function:"
   ]
  },
  {
   "cell_type": "markdown",
   "metadata": {},
   "source": [
    "For increasing orders (like n=4, m=5), we expect the error in the approximation to still be dominated by the machine precision. However, when increasing the orders using the current code, the matrix becomes singular and the code can no longer inverse it properly, as shown below.\n",
    "We show the behavior of the rational approximation in the next section, after changing np.linalg.inv to np.linalg.pinv; and show that the error is still of order of magnitude $\\sim 10^{-15}$."
   ]
  },
  {
   "cell_type": "markdown",
   "metadata": {},
   "source": [
    " - When increasing the order to n=4, m=5; the result is the following:"
   ]
  },
  {
   "cell_type": "code",
   "execution_count": 31,
   "metadata": {},
   "outputs": [
    {
     "name": "stdout",
     "output_type": "stream",
     "text": [
      "My rms error for the Lorentzian is 2.0661398497007206\n"
     ]
    }
   ],
   "source": [
    "#orders\n",
    "n = 4\n",
    "m = 5\n",
    "\n",
    "#values to interpolate from\n",
    "xi=np.linspace(-1,1, n+m-1)\n",
    "yi = 1/(1 + xi**2)\n",
    "\n",
    "#x values to interpolate\n",
    "x_r = np.linspace(xi[0],xi[-1],1001)\n",
    "\n",
    "#true values of the function\n",
    "y_true = 1/(1 + x_r**2)\n",
    "p, q = rat_fit1(xi,yi, n,m)\n",
    "y_r = rat_eval(p,q,x_r)\n",
    "\n",
    "print('My rms error for the Lorentzian is',np.std(y_r-y_true))"
   ]
  },
  {
   "cell_type": "code",
   "execution_count": 32,
   "metadata": {},
   "outputs": [
    {
     "name": "stdout",
     "output_type": "stream",
     "text": [
      "The coefficients for the rational function are: \n",
      "\n",
      "p = [ 2.30752097  5.          7.         -3.89449214]\n",
      "q = [ 6.   9.  -4.5  8. ].\n"
     ]
    }
   ],
   "source": [
    "print('The coefficients for the rational function are: \\n')\n",
    "print(f'p = {p}')\n",
    "print(f'q = {q}.')"
   ]
  },
  {
   "cell_type": "code",
   "execution_count": 33,
   "metadata": {},
   "outputs": [
    {
     "data": {
      "text/plain": [
       "<matplotlib.legend.Legend at 0x7fd22c3f90d0>"
      ]
     },
     "execution_count": 33,
     "metadata": {},
     "output_type": "execute_result"
    },
    {
     "data": {
      "image/png": "[encoded data removed]",
      "text/plain": [
       "<Figure size 576x288 with 1 Axes>"
      ]
     },
     "metadata": {
      "needs_background": "light"
     },
     "output_type": "display_data"
    }
   ],
   "source": [
    "plt.figure(figsize=(8,4))\n",
    "plt.plot(x_r, y_r, ',', label='Rational')\n",
    "plt.plot(xi, yi, '.', label='True f(x)')\n",
    "plt.legend()"
   ]
  },
  {
   "cell_type": "markdown",
   "metadata": {},
   "source": [
    "### Changing np.linalg.inv to np.linalg.pinv"
   ]
  },
  {
   "cell_type": "code",
   "execution_count": 34,
   "metadata": {},
   "outputs": [
    {
     "name": "stdout",
     "output_type": "stream",
     "text": [
      "My rms error for the Lorentzian is 1.1158664807637838e-15\n"
     ]
    }
   ],
   "source": [
    "#orders\n",
    "n = 4\n",
    "m = 5\n",
    "\n",
    "#values to interpolate from\n",
    "xi=np.linspace(-1,1, n+m-1)\n",
    "yi = 1/(1 + xi**2)\n",
    "\n",
    "#x values to interpolate\n",
    "x_r = np.linspace(xi[0],xi[-1],1001)\n",
    "\n",
    "#true values of the function\n",
    "y_true = 1/(1 + x_r**2)\n",
    "\n",
    "\n",
    "p, q = rat_fit2(xi,yi, n,m)\n",
    "y_r = rat_eval(p,q,x_r)\n",
    "\n",
    "print('My rms error for the Lorentzian is',np.std(y_r-y_true))"
   ]
  },
  {
   "cell_type": "code",
   "execution_count": 35,
   "metadata": {},
   "outputs": [
    {
     "name": "stdout",
     "output_type": "stream",
     "text": [
      "The coefficients for the rational function are: \n",
      "\n",
      "p = [ 1.00000000e+00  1.77635684e-15 -3.33333333e-01  0.00000000e+00]\n",
      "q = [ 0.00000000e+00  6.66666667e-01 -1.77635684e-15 -3.33333333e-01].\n"
     ]
    }
   ],
   "source": [
    "print('The coefficients for the rational function are: \\n')\n",
    "print(f'p = {p}')\n",
    "print(f'q = {q}.')"
   ]
  },
  {
   "cell_type": "code",
   "execution_count": 36,
   "metadata": {},
   "outputs": [
    {
     "data": {
      "text/plain": [
       "<matplotlib.legend.Legend at 0x7fd22c830510>"
      ]
     },
     "execution_count": 36,
     "metadata": {},
     "output_type": "execute_result"
    },
    {
     "data": {
      "image/png": "[encoded data removed]",
      "text/plain": [
       "<Figure size 576x288 with 1 Axes>"
      ]
     },
     "metadata": {
      "needs_background": "light"
     },
     "output_type": "display_data"
    }
   ],
   "source": [
    "plt.figure(figsize=(8,4))\n",
    "plt.plot(x_r, y_r, ',', label='Rational')\n",
    "plt.plot(xi, yi, '.', label='True f(x)')\n",
    "plt.legend()"
   ]
  },
  {
   "cell_type": "markdown",
   "metadata": {},
   "source": [
    "We can understand what happened by looking at the coefficients as they no longer approximate a lorentzian function, especially $p_0$ and $q_0$. Therefore, the interpolation blows up, as seen in the plot above. This happens because the determinant of the matrix is 0, (i.e. it's a singular matrix). Trading the np.linalg.inv for a function capable of handling singuler matrices therefore allows the correct estimation of the coefficients, as shown above, and thus an interpolate accurate to the machine's precision, as shown in the plot."
   ]
  },
  {
   "cell_type": "markdown",
   "metadata": {},
   "source": [
    "## Question 4:"
   ]
  },
  {
   "cell_type": "markdown",
   "metadata": {},
   "source": [
    "Using the integral from Pb 2.7 in Griffiths, the electrical field of an infinitessimally small spherical shell can be defined as:\n",
    "\n",
    "\n",
    "$$E(z) = \\frac{R^2 \\sigma}{2 \\epsilon_0} \\int^\\pi_0 \\frac{z-Rcos\\theta}{(R^2 + z^2 - 2Rzcos \\theta)^{3/2}}sin\\theta d\\theta$$"
   ]
  },
  {
   "cell_type": "code",
   "execution_count": 37,
   "metadata": {},
   "outputs": [],
   "source": [
    "R = 10 #radius of the sphere\n",
    "z_r = np.linspace(0, 2*R, 101) #z values"
   ]
  },
  {
   "cell_type": "code",
   "execution_count": 38,
   "metadata": {},
   "outputs": [],
   "source": [
    "#set up the integral:\n",
    "def E_z(θ, z):\n",
    "    E = R**2 * np.sin(θ) *(z - R*np.cos(θ))/(R**2 + z**2 - 2*R*z*np.cos(θ))**(3/2.)  \n",
    "    return E"
   ]
  },
  {
   "cell_type": "code",
   "execution_count": 39,
   "metadata": {},
   "outputs": [],
   "source": [
    "#define the integrator\n",
    "def Integrator(fun,z,a,b,tol):\n",
    "    \n",
    "    #interval split into 4 ranges\n",
    "    x=np.linspace(a,b,5)\n",
    "    \n",
    "    #get y values for the above x values\n",
    "    y=fun(x, z)\n",
    "    \n",
    "    #evaluate the integral using Simpson's rule.\n",
    "    f1 = (y[0] + 4*y[2] + y[4]) / 6.* (b-a)\n",
    "    f2 = (y[0] + 4*y[1] + 2*y[2] + 4*y[3]+y[4]) / 12.*(b-a)\n",
    "    \n",
    "    #error:\n",
    "    myerr=np.abs(f2 - f1)\n",
    "    \n",
    "    #if error small enough\n",
    "    if (myerr < tol):\n",
    "        #return the answer\n",
    "        return (16.0*f2-f1)/15.0,myerr\n",
    "    \n",
    "    else:\n",
    "        #divide the interval in two\n",
    "        mid=0.5*(b+a)\n",
    "        \n",
    "        #re-evaluate the integral over each of the two new intervals\n",
    "        f_left,err_left = Integrator(fun, z, a, mid, tol/2.0)\n",
    "        f_right,err_right = Integrator(fun, z,  mid, b, tol/2.0)\n",
    "        \n",
    "        #get total integral and err\n",
    "        f=f_left+f_right\n",
    "        err=err_left+err_right\n",
    "        \n",
    "        return f,err"
   ]
  },
  {
   "cell_type": "code",
   "execution_count": 40,
   "metadata": {},
   "outputs": [
    {
     "name": "stderr",
     "output_type": "stream",
     "text": [
      "/Users/capucinebarfety/opt/anaconda3/lib/python3.7/site-packages/ipykernel_launcher.py:3: RuntimeWarning: invalid value encountered in true_divide\n",
      "  This is separate from the ipykernel package so we can avoid doing imports until\n"
     ]
    },
    {
     "name": "stdout",
     "output_type": "stream",
     "text": [
      "There is a singularity in the integral that the integrator cannot compute. Replace with infinity.\n"
     ]
    }
   ],
   "source": [
    "#Evaluating the integral of the function using Integrator:\n",
    "Ez = []\n",
    "err_Ez = []\n",
    "for i in range(len(z_r)):\n",
    "    #to deal with the presence of a singularity, if the code raises a RuntimeError, set the value of the integral to infinity.\n",
    "    try:\n",
    "        Ez.append(Integrator(E_z, z_r[i], 0, np.pi, 1e-7)[0])\n",
    "        err_Ez.append(Integrator(E_z, z_r[i], 0, np.pi, 1e-7)[1])\n",
    "    except(RuntimeError):\n",
    "        print('There is a singularity in the integral that the integrator cannot compute. Replace with infinity.')\n",
    "        Ez.append(np.inf)\n",
    "        err_Ez.append(0)\n",
    "\n",
    "        \n",
    "#Evaluating the integral of the function using scipy.integrate.quad:\n",
    "quad_Ez = []\n",
    "err_quad_Ez = []\n",
    "for i in range(len(z_r)):\n",
    "    quad_Ez.append(quad(E_z, 0, np.pi, z_r[i])[0])\n",
    "    err_quad_Ez.append(quad(E_z, 0, np.pi, z_r[i])[1])"
   ]
  },
  {
   "cell_type": "markdown",
   "metadata": {},
   "source": [
    "When z = R, Integrator crashes because at this point the integrand becomes, when $\\theta = 0$, the denominator of the function is 0, resulting in a RuntimeWarning. The scipy function quad does not appear to have a problem with it, whereas our function, using Simpson's rule, tries to evaluate the integral at its lower bound where $\\theta = 0$."
   ]
  },
  {
   "cell_type": "code",
   "execution_count": 41,
   "metadata": {},
   "outputs": [
    {
     "data": {
      "text/plain": [
       "<matplotlib.legend.Legend at 0x7fd22c780d50>"
      ]
     },
     "execution_count": 41,
     "metadata": {},
     "output_type": "execute_result"
    },
    {
     "data": {
      "image/png": "[encoded data removed]",
      "text/plain": [
       "<Figure size 864x576 with 1 Axes>"
      ]
     },
     "metadata": {
      "needs_background": "light"
     },
     "output_type": "display_data"
    }
   ],
   "source": [
    "plt.figure(figsize=(12,8))\n",
    "plt.plot(z_r, np.array(Ez), label='Integrator')\n",
    "plt.plot(z_r, np.array(quad_Ez),':', color='r',label='scipy.integrate.quad')\n",
    "plt.ylabel(r'$\\frac{2\\epsilon_0}{\\sigma}E_z$', fontsize=20)\n",
    "plt.xlabel(r'z', fontsize=20)\n",
    "plt.vlines(R, 0,2, 'k', '-.', label='R')\n",
    "plt.legend()"
   ]
  }
 ],
 "metadata": {
  "kernelspec": {
   "display_name": "Python 3",
   "language": "python",
   "name": "python3"
  },
  "language_info": {
   "codemirror_mode": {
    "name": "ipython",
    "version": 3
   },
   "file_extension": ".py",
   "mimetype": "text/x-python",
   "name": "python",
   "nbconvert_exporter": "python",
   "pygments_lexer": "ipython3",
   "version": "3.7.6"
  }
 },
 "nbformat": 4,
 "nbformat_minor": 4
}
