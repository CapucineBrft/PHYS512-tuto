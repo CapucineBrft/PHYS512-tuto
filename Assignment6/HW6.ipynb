{
 "cells": [
  {
   "cell_type": "code",
   "execution_count": 82,
   "metadata": {},
   "outputs": [],
   "source": [
    "%matplotlib widget\n",
    "import numpy as np\n",
    "import matplotlib.pyplot as plt\n",
    "import random\n",
    "from tqdm import tqdm\n",
    "from mpl_toolkits.mplot3d import Axes3D\n",
    "import time"
   ]
  },
  {
   "cell_type": "markdown",
   "metadata": {},
   "source": [
    "# HW6"
   ]
  },
  {
   "cell_type": "markdown",
   "metadata": {},
   "source": [
    "## Problem 1:"
   ]
  },
  {
   "cell_type": "markdown",
   "metadata": {},
   "source": [
    "### For the C random number generator:"
   ]
  },
  {
   "cell_type": "code",
   "execution_count": 83,
   "metadata": {},
   "outputs": [],
   "source": [
    "c_lib = np.loadtxt('rand_points.txt', delimiter=' ')"
   ]
  },
  {
   "cell_type": "code",
   "execution_count": 84,
   "metadata": {},
   "outputs": [
    {
     "data": {
      "application/vnd.jupyter.widget-view+json": {
       "model_id": "902521b856fb474fb1b08be7f2a6abbf",
       "version_major": 2,
       "version_minor": 0
      },
      "text/plain": [
       "Canvas(toolbar=Toolbar(toolitems=[('Home', 'Reset original view', 'home', 'home'), ('Back', 'Back to previous …"
      ]
     },
     "metadata": {},
     "output_type": "display_data"
    }
   ],
   "source": [
    "fig = plt.figure(figsize=(12,10))\n",
    "\n",
    "ax = fig.add_subplot(111, projection='3d')\n",
    "ax.plot(xs = c_lib.T[0], ys = c_lib.T[1], zs = c_lib.T[2], linestyle='', marker='.')\n",
    "ax.set_xlabel('x', fontsize=15)\n",
    "ax.set_ylabel('y', fontsize=15)\n",
    "ax.set_zlabel('z', fontsize=15)\n",
    "ax.view_init(elev=-7., azim=-62.)"
   ]
  },
  {
   "cell_type": "markdown",
   "metadata": {},
   "source": [
    "The plot above clearly shows a correlation between the points."
   ]
  },
  {
   "cell_type": "markdown",
   "metadata": {},
   "source": [
    "### For the python random number generator:"
   ]
  },
  {
   "cell_type": "code",
   "execution_count": 85,
   "metadata": {},
   "outputs": [],
   "source": [
    "py_lib = np.zeros(c_lib.shape)\n",
    "\n",
    "random.seed(1)\n",
    "for i in range(len(c_lib)):\n",
    "    py_lib[i] = random.random(),random.random(),random.random()\n",
    "    \n",
    "py_lib = py_lib*1e8"
   ]
  },
  {
   "cell_type": "code",
   "execution_count": 86,
   "metadata": {},
   "outputs": [
    {
     "data": {
      "application/vnd.jupyter.widget-view+json": {
       "model_id": "7e08b4f588914756b6158e002eab6a7a",
       "version_major": 2,
       "version_minor": 0
      },
      "text/plain": [
       "Canvas(toolbar=Toolbar(toolitems=[('Home', 'Reset original view', 'home', 'home'), ('Back', 'Back to previous …"
      ]
     },
     "metadata": {},
     "output_type": "display_data"
    }
   ],
   "source": [
    "fig = plt.figure(figsize=(12,10))\n",
    "ax = fig.add_subplot(111, projection='3d')\n",
    "ax.plot(xs = py_lib.T[0], ys = py_lib.T[1], zs = py_lib.T[2], linestyle='', marker='.')\n",
    "ax.set_xlabel('x', fontsize=15)\n",
    "ax.set_ylabel('y', fontsize=15)\n",
    "ax.set_zlabel('z', fontsize=15)\n",
    "ax.view_init(elev=-7., azim=-62.)"
   ]
  },
  {
   "cell_type": "markdown",
   "metadata": {},
   "source": [
    "As opposed to the plot using the C library, there is no such correlation between the generated points when viewed at the same angle (or any angle)."
   ]
  },
  {
   "cell_type": "markdown",
   "metadata": {},
   "source": [
    "### I wasn't able to reproduce this on my machine."
   ]
  },
  {
   "cell_type": "markdown",
   "metadata": {},
   "source": [
    "# Problem 2:"
   ]
  },
  {
   "cell_type": "code",
   "execution_count": 87,
   "metadata": {},
   "outputs": [],
   "source": [
    "def lorentz_dev(n):\n",
    "    x = np.random.rand(n)\n",
    "    return np.tan(np.pi*(x-1/2.))\n",
    "\n",
    "def gaussian_dev(n):\n",
    "    #get the Gaussian deviate by using the Box-Muller method code from Pr Sievers.\n",
    "    x=2*np.random.rand(n)-1\n",
    "    y=2*np.random.rand(n)-1\n",
    "    rsqr=(x**2+y**2)\n",
    "    ind=rsqr<1\n",
    "    x=x[ind]\n",
    "    y=y[ind]\n",
    "    rsqr=rsqr[ind]\n",
    "    rr=np.sqrt(-2*np.log(rsqr)/rsqr)\n",
    "    xx=x*rr\n",
    "    yy=y*rr\n",
    "    return xx, yy\n",
    "\n",
    "def powerlaw_dev(n):\n",
    "    x = np.random.rand(n)\n",
    "    return 2*x**(-1/2.)\n",
    "\n",
    "\n",
    "n = 10000000"
   ]
  },
  {
   "cell_type": "markdown",
   "metadata": {},
   "source": [
    "### Using a Lorentzian to retrieve an exponential distribution"
   ]
  },
  {
   "cell_type": "code",
   "execution_count": 88,
   "metadata": {},
   "outputs": [
    {
     "data": {
      "application/vnd.jupyter.widget-view+json": {
       "model_id": "ec139ce6bd5f43d9ba9ec9c5fab87a92",
       "version_major": 2,
       "version_minor": 0
      },
      "text/plain": [
       "Canvas(toolbar=Toolbar(toolitems=[('Home', 'Reset original view', 'home', 'home'), ('Back', 'Back to previous …"
      ]
     },
     "metadata": {},
     "output_type": "display_data"
    },
    {
     "data": {
      "application/vnd.jupyter.widget-view+json": {
       "model_id": "4702b5992bbb458a9f152dcaff340703",
       "version_major": 2,
       "version_minor": 0
      },
      "text/plain": [
       "Canvas(toolbar=Toolbar(toolitems=[('Home', 'Reset original view', 'home', 'home'), ('Back', 'Back to previous …"
      ]
     },
     "metadata": {},
     "output_type": "display_data"
    },
    {
     "data": {
      "text/plain": [
       "<matplotlib.legend.Legend at 0x7f839ecf1690>"
      ]
     },
     "execution_count": 88,
     "metadata": {},
     "output_type": "execute_result"
    }
   ],
   "source": [
    "x = lorentz_dev(n)\n",
    "xx = x[np.abs(x)<20]\n",
    "xx = xx[xx>0]\n",
    "\n",
    "a,b = np.histogram(xx, 200)\n",
    "bb = 0.5*(b[1:]+b[:-1])\n",
    "\n",
    "#Plot the two functions to make sure the Lorenztian is superior to the exponential at all points\n",
    "plt.figure()\n",
    "plt.plot(bb, np.exp(-bb)/np.exp(-bb).max(), label='Exponential')\n",
    "plt.plot(bb, a/a.max(), label='Lorenztian')\n",
    "plt.title('Comparing the Lorentzian and exponential', fontsize=15)\n",
    "plt.legend()\n",
    "\n",
    "#Since we confirmed that the Lorenztian lies above the exponential, we can follow through with the rejection method:\n",
    "t1 = time.time()\n",
    "prob_lorentz = np.exp(-xx)/(1/(1+xx**2))\n",
    "assert(np.max(prob_lorentz) <= 1)\n",
    "accept = np.random.rand(len(prob_lorentz)) < prob_lorentz\n",
    "t2 = time.time()\n",
    "\n",
    "plt.figure()\n",
    "hist = plt.hist(xx[accept], 100, density=True, label='Distribution')\n",
    "plt.plot(bb, np.exp(-bb)/np.exp(-bb).max(), label='Analytical Exponential')\n",
    "plt.title('Results of the Rejection method', fontsize=15)\n",
    "plt.legend()"
   ]
  },
  {
   "cell_type": "code",
   "execution_count": 89,
   "metadata": {},
   "outputs": [
    {
     "name": "stdout",
     "output_type": "stream",
     "text": [
      "Acceptance rate is 0.4839115\n",
      "Time diff is: 0.3604259490966797\n"
     ]
    }
   ],
   "source": [
    "print(f'Acceptance rate is {len(accept)/len(x)}')\n",
    "print(f'Time diff is: {t2-t1}')"
   ]
  },
  {
   "cell_type": "markdown",
   "metadata": {},
   "source": [
    "The acceptance rate from the rejection method using a Lorentzian is about 50%. "
   ]
  },
  {
   "cell_type": "markdown",
   "metadata": {},
   "source": [
    "### Using a powerlaw to retrieve an exponential distribution"
   ]
  },
  {
   "cell_type": "code",
   "execution_count": 90,
   "metadata": {},
   "outputs": [
    {
     "data": {
      "application/vnd.jupyter.widget-view+json": {
       "model_id": "33a056281c324939b16df2e580e8de19",
       "version_major": 2,
       "version_minor": 0
      },
      "text/plain": [
       "Canvas(toolbar=Toolbar(toolitems=[('Home', 'Reset original view', 'home', 'home'), ('Back', 'Back to previous …"
      ]
     },
     "metadata": {},
     "output_type": "display_data"
    },
    {
     "data": {
      "text/plain": [
       "<matplotlib.legend.Legend at 0x7f839e473310>"
      ]
     },
     "execution_count": 90,
     "metadata": {},
     "output_type": "execute_result"
    }
   ],
   "source": [
    "x = powerlaw_dev(n)\n",
    "xx = x[np.abs(x)<20]\n",
    "xx = xx[xx>0]\n",
    "\n",
    "a,b = np.histogram(xx, 200)\n",
    "bb = 0.5*(b[1:]+b[:-1])\n",
    "\n",
    "#Plot the two functions to make sure the Lorenztian is powerlaw to the exponential at all points\n",
    "plt.figure()\n",
    "plt.plot(bb, np.exp(-bb)/np.exp(-bb).max(), label='Exponential')\n",
    "plt.plot(bb, a/a.max(), label='powerlaw')\n",
    "plt.title('Comparing the powerlaw and exponential', fontsize=15)\n",
    "plt.legend()"
   ]
  },
  {
   "cell_type": "markdown",
   "metadata": {},
   "source": [
    "It looks like the powerlaw lies under the exponential for low values of x, in which case it cannot be used for the rejection method."
   ]
  },
  {
   "cell_type": "markdown",
   "metadata": {},
   "source": [
    "### Using a Gaussian to retrieve an exponential distribution"
   ]
  },
  {
   "cell_type": "code",
   "execution_count": 91,
   "metadata": {},
   "outputs": [
    {
     "data": {
      "application/vnd.jupyter.widget-view+json": {
       "model_id": "4566e30eea5c4505b6b5f857ae5ae9fb",
       "version_major": 2,
       "version_minor": 0
      },
      "text/plain": [
       "Canvas(toolbar=Toolbar(toolitems=[('Home', 'Reset original view', 'home', 'home'), ('Back', 'Back to previous …"
      ]
     },
     "metadata": {},
     "output_type": "display_data"
    },
    {
     "data": {
      "text/plain": [
       "<matplotlib.legend.Legend at 0x7f839e46bd10>"
      ]
     },
     "execution_count": 91,
     "metadata": {},
     "output_type": "execute_result"
    }
   ],
   "source": [
    "x,y = gaussian_dev(n)\n",
    "xx = x[np.abs(x)<20]\n",
    "xx = xx[xx>0]\n",
    "\n",
    "a,b = np.histogram(xx, 200)\n",
    "bb = 0.5*(b[1:]+b[:-1])\n",
    "\n",
    "#Plot the two functions to make sure the Lorenztian is powerlaw to the exponential at all points\n",
    "plt.figure()\n",
    "plt.plot(bb, np.exp(-bb)/np.exp(-bb).max(), label='Exponential')\n",
    "plt.plot(bb, a/a.max(), label='Gaussian')\n",
    "plt.title('Comparing the Gaussian and exponential', fontsize=15)\n",
    "plt.legend()"
   ]
  },
  {
   "cell_type": "markdown",
   "metadata": {},
   "source": [
    "As opposed to the powerlaw that lies underneath the exponential for low values of x, the Gaussian lies underneath it for high values of x. However, this still mean that the function cannot be used for a rejection method, as it is not bounding."
   ]
  },
  {
   "cell_type": "markdown",
   "metadata": {},
   "source": [
    "# Problem 3:"
   ]
  },
  {
   "cell_type": "code",
   "execution_count": 92,
   "metadata": {},
   "outputs": [
    {
     "name": "stdout",
     "output_type": "stream",
     "text": [
      "Acceptance rate is 0.5001081\n",
      "Time diff is: 0.381727933883667\n"
     ]
    }
   ],
   "source": [
    "n = 10000000\n",
    "\n",
    "u = np.random.rand(n)\n",
    "v = np.random.rand(n)\n",
    "\n",
    "t1 = time.time()\n",
    "ratio = v/u\n",
    "accept = u < np.sqrt(np.exp(-ratio))\n",
    "accepted = ratio[accept]\n",
    "t2 = time.time()\n",
    "\n",
    "\n",
    "print(f'Acceptance rate is {len(accepted)/len(u)}')\n",
    "print(f'Time diff is: {t2-t1}')"
   ]
  },
  {
   "cell_type": "code",
   "execution_count": 93,
   "metadata": {},
   "outputs": [
    {
     "data": {
      "application/vnd.jupyter.widget-view+json": {
       "model_id": "fdcf45c05ff04f94b7af2e5298f748d4",
       "version_major": 2,
       "version_minor": 0
      },
      "text/plain": [
       "Canvas(toolbar=Toolbar(toolitems=[('Home', 'Reset original view', 'home', 'home'), ('Back', 'Back to previous …"
      ]
     },
     "metadata": {},
     "output_type": "display_data"
    },
    {
     "data": {
      "text/plain": [
       "<matplotlib.legend.Legend at 0x7f839e46b310>"
      ]
     },
     "execution_count": 93,
     "metadata": {},
     "output_type": "execute_result"
    }
   ],
   "source": [
    "plt.figure()\n",
    "hist = plt.hist(accepted, bins=200, density=True, label='Distribution')\n",
    "plt.plot(hist[1], np.exp(-hist[1])/np.exp(-hist[1]).max(), label='Analytical Exponential')\n",
    "plt.legend()"
   ]
  },
  {
   "cell_type": "markdown",
   "metadata": {},
   "source": [
    "If 0<u<1, the lower limit on v is 0.\n",
    "\n",
    "The upper limit of v where the acceptance rate is maximized, and the distribution still follows an exponential is around 1. Below that, the acceptance rate skyrockets but the distribution no longer ressembles the curve, while above that, the acceptance rate drops."
   ]
  }
 ],
 "metadata": {
  "kernelspec": {
   "display_name": "Python 3",
   "language": "python",
   "name": "python3"
  },
  "language_info": {
   "codemirror_mode": {
    "name": "ipython",
    "version": 3
   },
   "file_extension": ".py",
   "mimetype": "text/x-python",
   "name": "python",
   "nbconvert_exporter": "python",
   "pygments_lexer": "ipython3",
   "version": "3.7.6"
  }
 },
 "nbformat": 4,
 "nbformat_minor": 4
}
